{
 "cells": [
  {
   "cell_type": "markdown",
   "id": "d59a97ad",
   "metadata": {},
   "source": [
    "# <a id='toc1_'></a>[set up](#toc0_)"
   ]
  },
  {
   "cell_type": "code",
   "execution_count": 1,
   "id": "5fafc180",
   "metadata": {
    "ExecuteTime": {
     "end_time": "2023-09-07T04:30:55.594849Z",
     "start_time": "2023-09-07T04:30:55.588540Z"
    },
    "execution": {
     "iopub.execute_input": "2023-10-13T21:17:35.795902Z",
     "iopub.status.busy": "2023-10-13T21:17:35.795380Z",
     "iopub.status.idle": "2023-10-13T21:17:36.243108Z",
     "shell.execute_reply": "2023-10-13T21:17:36.242671Z",
     "shell.execute_reply.started": "2023-10-13T21:17:35.795883Z"
    },
    "tags": []
   },
   "outputs": [],
   "source": [
    "%matplotlib inline\n",
    "%load_ext autoreload\n",
    "%autoreload 2"
   ]
  },
  {
   "cell_type": "code",
   "execution_count": 2,
   "id": "8aef4b1c",
   "metadata": {
    "ExecuteTime": {
     "end_time": "2023-09-07T04:30:56.618487Z",
     "start_time": "2023-09-07T04:30:55.698491Z"
    },
    "execution": {
     "iopub.execute_input": "2023-10-13T21:17:36.244002Z",
     "iopub.status.busy": "2023-10-13T21:17:36.243846Z",
     "iopub.status.idle": "2023-10-13T21:17:38.174217Z",
     "shell.execute_reply": "2023-10-13T21:17:38.173724Z",
     "shell.execute_reply.started": "2023-10-13T21:17:36.243990Z"
    },
    "tags": []
   },
   "outputs": [
    {
     "name": "stderr",
     "output_type": "stream",
     "text": [
      "/home/qix/anaconda3/envs/allen/lib/python3.9/site-packages/tqdm/auto.py:21: TqdmWarning: IProgress not found. Please update jupyter and ipywidgets. See https://ipywidgets.readthedocs.io/en/stable/user_install.html\n",
      "  from .autonotebook import tqdm as notebook_tqdm\n"
     ]
    }
   ],
   "source": [
    "# import my code\n",
    "import GLM\n",
    "from DataLoader import Allen_dataset, Allen_dataloader_multi_session\n",
    "import utility_functions as utils\n",
    "\n",
    "# Set random seed for reproducibility\n",
    "utils.set_seed(0)"
   ]
  },
  {
   "cell_type": "markdown",
   "id": "32f4c848",
   "metadata": {},
   "source": [
    "# Load all sessions"
   ]
  },
  {
   "cell_type": "code",
   "execution_count": 3,
   "id": "ea4f3059",
   "metadata": {
    "ExecuteTime": {
     "end_time": "2023-09-07T04:32:02.133321Z",
     "start_time": "2023-09-07T04:30:56.638555Z"
    },
    "execution": {
     "iopub.execute_input": "2023-10-13T21:17:38.198592Z",
     "iopub.status.busy": "2023-10-13T21:17:38.198421Z",
     "iopub.status.idle": "2023-10-13T21:18:47.401950Z",
     "shell.execute_reply": "2023-10-13T21:18:47.401369Z",
     "shell.execute_reply.started": "2023-10-13T21:17:38.198575Z"
    },
    "tags": []
   },
   "outputs": [
    {
     "name": "stderr",
     "output_type": "stream",
     "text": [
      "Start loading data\n",
      "  0%|          | 0/2 [00:00<?, ?it/s]"
     ]
    },
    {
     "name": "stderr",
     "output_type": "stream",
     "text": [
      "100%|██████████| 2/2 [00:30<00:00, 15.00s/it]"
     ]
    },
    {
     "name": "stdout",
     "output_type": "stream",
     "text": [
      "Total sessions: 2, Batch size: 64, Train set size: 264, Val set size: 40, Test set size: 78\n"
     ]
    },
    {
     "name": "stderr",
     "output_type": "stream",
     "text": [
      "\n"
     ]
    }
   ],
   "source": [
    "### Build a dataloader for cross-session data\n",
    "# Let's use only two sessions here as an example\n",
    "# Feel free to change the sessions you want\n",
    "\n",
    "# Only two sessions\n",
    "session_ids = [757216464, 715093703]\n",
    "\n",
    "# Sessions with all 6 probes; if you need this, just uncomment below\n",
    "# session_ids = [\n",
    "#     715093703, 719161530, 721123822, 737581020, 739448407, 742951821, 743475441,\n",
    "#     744228101, 746083955, 750332458, 750749662, 751348571, 754312389, 755434585,\n",
    "#     756029989, 757216464, 760693773, 761418226, 762602078, 763673393, 766640955,\n",
    "#     767871931, 768515987, 771160300, 771990200, 773418906, 774875821, 778240327,\n",
    "#     778998620, 779839471, 781842082, 786091066, 787025148, 789848216, 791319847,\n",
    "#     793224716, 794812542, 797828357, 798911424, 799864342, 831882777, 839068429,\n",
    "#     840012044, 847657808\n",
    "# ]\n",
    "\n",
    "# All sessions provided in Allen Institute dataset\n",
    "# session_ids = [\n",
    "#     715093703, 719161530, 721123822, 732592105, 737581020, 739448407,\n",
    "#     742951821, 743475441, 744228101, 746083955, 750332458, 750749662,\n",
    "#     751348571, 754312389, 754829445, 755434585, 756029989, 757216464,\n",
    "#     757970808, 758798717, 759883607, 760345702, 760693773, 761418226,\n",
    "#     762120172, 762602078, 763673393, 766640955, 767871931, 768515987,\n",
    "#     771160300, 771990200, 773418906, 774875821, 778240327, 778998620,\n",
    "#     779839471, 781842082, 786091066, 787025148, 789848216, 791319847,\n",
    "#     793224716, 794812542, 797828357, 798911424, 799864342, 816200189,\n",
    "#     819186360, 819701982, 821695405, 829720705, 831882777, 835479236,\n",
    "#     839068429, 839557629, 840012044, 847657808\n",
    "# ]\n",
    "\n",
    "kwargs = {\n",
    "    'shuffle':True,\n",
    "    'align_stimulus_onset':True,  # Whether you want every trial to have stimulus onset at the t=0\n",
    "    'merge_trials':True, # If True, two consecutive trials with the same stimulus might be merged into one trial\n",
    "        # For example, trial 1 and trial 2 are both \"Gabors\", each lasts 250ms, and there is no interval between them\n",
    "    'batch_size':64,\n",
    "    'fps':500,\n",
    "    'start_time':0.0,\n",
    "    'end_time':0.4,\n",
    "    'padding':0.1, # time (in second) to include before t=0; this is useful for GLM coupling models \n",
    "        # because we want allow data at t=-20ms as predictor/covariates to affect our outcome variable at t=0ms \n",
    "        # since we have delay in the model. \n",
    "    'selected_probes':['probeA', 'probeB', 'probeC', 'probeD', 'probeE', 'probeF'],\n",
    "}\n",
    "cross_session_dataloader = Allen_dataloader_multi_session(session_ids, **kwargs)"
   ]
  },
  {
   "cell_type": "markdown",
   "id": "cbffe701",
   "metadata": {},
   "source": [
    "Now this ```cross_session_dataloader``` is all you need. Let's take a look at it"
   ]
  },
  {
   "cell_type": "code",
   "execution_count": 4,
   "id": "abf43713",
   "metadata": {},
   "outputs": [
    {
     "name": "stdout",
     "output_type": "stream",
     "text": [
      "Number of batches in the training set: 264\n",
      "Number of batches in the validation set: 40\n",
      "Number of batches in the test set: 78\n"
     ]
    }
   ],
   "source": [
    "print(f\"Number of batches in the training set: {len(cross_session_dataloader.train_loader)}\")\n",
    "print(f\"Number of batches in the validation set: {len(cross_session_dataloader.val_loader)}\")\n",
    "print(f\"Number of batches in the test set: {len(cross_session_dataloader.test_loader)}\")"
   ]
  },
  {
   "cell_type": "markdown",
   "id": "7f8bb20f",
   "metadata": {},
   "source": [
    "**For fast loading speed, all trials in a batch comes from the same session (animal)**\n",
    "\n",
    "Let's take a look at the first batch. \n",
    "Each batch is a ```dict``` that stores the following information:\n",
    "- spike_trains: numpy arrary of shape (number of time bins, total number of neurons, number of trials aka batch size)\n",
    "- presentation_ids: the stimulus presentation id for each trials\n",
    "- neuron_id: the neuron id for each neuron\n",
    "- session_id: this is only a string representing the session which all trials in the batch comes from. \n",
    "- nneuron_list: a list of number of neurons in each area/population for this session. The sum of this list is equal to total number of neurons"
   ]
  },
  {
   "cell_type": "code",
   "execution_count": 5,
   "id": "6588d781",
   "metadata": {},
   "outputs": [
    {
     "name": "stdout",
     "output_type": "stream",
     "text": [
      "dict_keys(['spike_trains', 'presentation_ids', 'neuron_id', 'session_id', 'nneuron_list'])\n"
     ]
    }
   ],
   "source": [
    "batch = next(iter(cross_session_dataloader.train_loader))\n",
    "print(batch.keys())"
   ]
  },
  {
   "cell_type": "code",
   "execution_count": 6,
   "id": "bec39843",
   "metadata": {},
   "outputs": [
    {
     "data": {
      "text/plain": [
       "torch.Size([250, 258, 64])"
      ]
     },
     "execution_count": 6,
     "metadata": {},
     "output_type": "execute_result"
    }
   ],
   "source": [
    "batch['spike_trains'].shape"
   ]
  },
  {
   "cell_type": "code",
   "execution_count": 7,
   "id": "6b20dcb2",
   "metadata": {},
   "outputs": [
    {
     "data": {
      "text/plain": [
       "(64,)"
      ]
     },
     "execution_count": 7,
     "metadata": {},
     "output_type": "execute_result"
    }
   ],
   "source": [
    "batch['presentation_ids'].shape"
   ]
  },
  {
   "cell_type": "code",
   "execution_count": 8,
   "id": "39aab11f",
   "metadata": {},
   "outputs": [
    {
     "data": {
      "text/plain": [
       "(258,)"
      ]
     },
     "execution_count": 8,
     "metadata": {},
     "output_type": "execute_result"
    }
   ],
   "source": [
    "batch['neuron_id'].shape"
   ]
  },
  {
   "cell_type": "code",
   "execution_count": 9,
   "id": "d9f32581",
   "metadata": {},
   "outputs": [
    {
     "data": {
      "text/plain": [
       "'715093703'"
      ]
     },
     "execution_count": 9,
     "metadata": {},
     "output_type": "execute_result"
    }
   ],
   "source": [
    "batch['session_id']"
   ]
  },
  {
   "cell_type": "code",
   "execution_count": 10,
   "id": "23d0f64a",
   "metadata": {},
   "outputs": [
    {
     "data": {
      "text/plain": [
       "[30, 50, 60, 42, 30, 46]"
      ]
     },
     "execution_count": 10,
     "metadata": {},
     "output_type": "execute_result"
    }
   ],
   "source": [
    "batch['nneuron_list']"
   ]
  },
  {
   "cell_type": "markdown",
   "id": "b6c7f683",
   "metadata": {},
   "source": [
    "# Save and reload the data loader"
   ]
  },
  {
   "cell_type": "code",
   "execution_count": null,
   "id": "de5304bc",
   "metadata": {},
   "outputs": [],
   "source": [
    "# You can save the object to a file so you don't have to run the above code again every time you want to load the data\n",
    "import joblib\n",
    "data_path = 'two_sessions.joblib'\n",
    "joblib.dump(cross_session_dataloader, data_path)"
   ]
  },
  {
   "cell_type": "code",
   "execution_count": null,
   "id": "21582687",
   "metadata": {},
   "outputs": [],
   "source": [
    "# Use this line to load the saved object\n",
    "cross_session_dataloader = joblib.load(data_path)"
   ]
  }
 ],
 "metadata": {
  "kernelspec": {
   "display_name": "Python 3",
   "language": "python",
   "name": "python3"
  },
  "language_info": {
   "codemirror_mode": {
    "name": "ipython",
    "version": 3
   },
   "file_extension": ".py",
   "mimetype": "text/x-python",
   "name": "python",
   "nbconvert_exporter": "python",
   "pygments_lexer": "ipython3",
   "version": "3.9.21"
  },
  "latex_envs": {
   "LaTeX_envs_menu_present": true,
   "autoclose": false,
   "autocomplete": true,
   "bibliofile": "biblio.bib",
   "cite_by": "apalike",
   "current_citInitial": 1,
   "eqLabelWithNumbers": true,
   "eqNumInitial": 1,
   "hotkeys": {
    "equation": "Ctrl-E",
    "itemize": "Ctrl-I"
   },
   "labels_anchors": false,
   "latex_user_defs": false,
   "report_style_numbering": false,
   "user_envs_cfg": false
  },
  "toc": {
   "base_numbering": "0",
   "nav_menu": {},
   "number_sections": true,
   "sideBar": true,
   "skip_h1_title": false,
   "title_cell": "Table of Contents",
   "title_sidebar": "Contents",
   "toc_cell": false,
   "toc_position": {
    "height": "451.037px",
    "left": "51px",
    "top": "133.773px",
    "width": "505.547px"
   },
   "toc_section_display": true,
   "toc_window_display": true
  },
  "toc-autonumbering": true,
  "varInspector": {
   "cols": {
    "lenName": 16,
    "lenType": 16,
    "lenVar": 40
   },
   "kernels_config": {
    "python": {
     "delete_cmd_postfix": "",
     "delete_cmd_prefix": "del ",
     "library": "var_list.py",
     "varRefreshCmd": "print(var_dic_list())"
    },
    "r": {
     "delete_cmd_postfix": ") ",
     "delete_cmd_prefix": "rm(",
     "library": "var_list.r",
     "varRefreshCmd": "cat(var_dic_list()) "
    }
   },
   "oldHeight": 798.844,
   "position": {
    "height": "1060px",
    "left": "1670.92px",
    "right": "20px",
    "top": "202.906px",
    "width": "317.047px"
   },
   "types_to_exclude": [
    "module",
    "function",
    "builtin_function_or_method",
    "instance",
    "_Feature"
   ],
   "varInspector_section_display": "block",
   "window_display": true
  }
 },
 "nbformat": 4,
 "nbformat_minor": 5
}
