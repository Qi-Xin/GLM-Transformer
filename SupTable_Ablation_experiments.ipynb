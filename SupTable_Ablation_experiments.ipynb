{
 "cells": [
  {
   "cell_type": "markdown",
   "metadata": {},
   "source": [
    "# Set up environment"
   ]
  },
  {
   "cell_type": "code",
   "execution_count": 1,
   "metadata": {},
   "outputs": [],
   "source": [
    "%load_ext autoreload\n",
    "%autoreload 2\n",
    "%matplotlib inline"
   ]
  },
  {
   "cell_type": "code",
   "execution_count": 2,
   "metadata": {},
   "outputs": [
    {
     "name": "stdout",
     "output_type": "stream",
     "text": [
      "True\n",
      "12.1\n"
     ]
    }
   ],
   "source": [
    "# Test if GPU is available\n",
    "# Note that CUDA below 12.1 can have bugs\n",
    "import torch\n",
    "print(torch.cuda.is_available())\n",
    "# print(torch.cuda.get_device_name(0))\n",
    "print(torch.version.cuda)\n",
    "device = torch.device(\"cuda\" if torch.cuda.is_available() else \"cpu\")"
   ]
  },
  {
   "cell_type": "code",
   "execution_count": 3,
   "metadata": {},
   "outputs": [],
   "source": [
    "#%% import libraries\n",
    "import os\n",
    "from collections import defaultdict\n",
    "import sys\n",
    "\n",
    "import matplotlib.pyplot as plt\n",
    "import pandas as pd\n",
    "import seaborn as sns\n",
    "import copy\n",
    "import numpy as np\n",
    "import numpy.random\n",
    "from numpy.fft import fft as fft\n",
    "from numpy.fft import ifft as ifft\n",
    "import pickle\n",
    "from sklearn.linear_model import PoissonRegressor\n",
    "from sklearn.model_selection import KFold\n",
    "from sklearn.manifold import TSNE\n",
    "import scipy.stats\n",
    "from scipy.stats import wilcoxon, chi2\n",
    "import scipy.interpolate \n",
    "import scipy.signal\n",
    "from scipy import linalg\n",
    "from scipy.special import rel_entr\n",
    "from tqdm import tqdm\n",
    "import pandas as pd\n",
    "import joblib\n",
    "import logging\n",
    "\n",
    "import statsmodels.api as sm\n",
    "import statsmodels.genmod.generalized_linear_model as smm\n",
    "\n",
    "import torch\n",
    "from torch.autograd import Variable\n",
    "from torch.nn import functional as F\n",
    "import torch.nn as nn\n",
    "import torch.optim as optim"
   ]
  },
  {
   "cell_type": "code",
   "execution_count": 4,
   "metadata": {},
   "outputs": [
    {
     "name": "stderr",
     "output_type": "stream",
     "text": [
      "/home/qix/anaconda3/envs/allen/lib/python3.9/site-packages/tqdm/auto.py:21: TqdmWarning: IProgress not found. Please update jupyter and ipywidgets. See https://ipywidgets.readthedocs.io/en/stable/user_install.html\n",
      "  from .autonotebook import tqdm as notebook_tqdm\n"
     ]
    }
   ],
   "source": [
    "# import my code\n",
    "import utility_functions as utils\n",
    "import GLM\n",
    "from DataLoader import Allen_dataset, Allen_dataloader_multi_session, Simple_dataloader_from_spikes\n",
    "from model_trainer import Trainer\n",
    "\n",
    "utils.set_seed(0)"
   ]
  },
  {
   "cell_type": "markdown",
   "metadata": {},
   "source": [
    "# Load data"
   ]
  },
  {
   "cell_type": "code",
   "execution_count": null,
   "metadata": {},
   "outputs": [],
   "source": [
    "# Load GLM neuron dataset\n",
    "file_name = '/home/qix/user_data/EIF_simulation_dataset/synthetic_data_GLM.npz'\n",
    "data = np.load(file_name)\n",
    "spikes = data['spikes'][:,:,:]\n",
    "nneuron = spikes.shape[1]//2\n",
    "synthetic_GLM_dataloader = Simple_dataloader_from_spikes(\n",
    "    [spikes[:,:nneuron,:], spikes[:,nneuron:,:]],\n",
    "    npadding=50,\n",
    "    train_ratio=0.7,\n",
    "    val_ratio=0.1,\n",
    "    batch_size=64,\n",
    "    verbose=True\n",
    ")\n",
    "\n",
    "# Load EIF neuron dataset\n",
    "file_name = f'/home/qix/user_data/EIF_simulation_dataset/synthetic_data_EIF_connTrue.npz'\n",
    "data = np.load(file_name, allow_pickle=True)\n",
    "spikes = data['spikes'][:,:,:]\n",
    "nneuron = spikes.shape[1]//2\n",
    "synthetic_EIF_dataloader = Simple_dataloader_from_spikes(\n",
    "    [spikes[:,:nneuron,:], spikes[:,nneuron:,:]],\n",
    "    npadding=50,\n",
    "    train_ratio=0.7,\n",
    "    val_ratio=0.1,\n",
    "    batch_size=64,\n",
    "    verbose=True\n",
    ")\n",
    "\n",
    "# Load real dataset\n",
    "if sys.platform == 'linux':\n",
    "    data_path = '/home/qix/user_data/allen_spike_trains/single_sessions.joblib'\n",
    "else:\n",
    "    data_path = 'D:/ecephys_cache_dir/single_sessions.joblib'\n",
    "real_dataloader = joblib.load(data_path)"
   ]
  },
  {
   "cell_type": "code",
   "execution_count": 90,
   "metadata": {},
   "outputs": [],
   "source": [
    "spikes = np.zeros((250, 352, 38*64+35))\n",
    "trial_idx = 0\n",
    "for batch in real_dataloader.test_loader:\n",
    "    spikes[:, :, trial_idx:trial_idx+batch['spike_trains'].shape[2]] = batch['spike_trains']\n",
    "    trial_idx += batch['spike_trains'].shape[2]\n",
    "acc_nneuron = [0] + list(np.cumsum(real_dataloader.sessions[757216464].nneuron_list))\n",
    "\n",
    "real_dataloader_fast = Simple_dataloader_from_spikes(\n",
    "    [spikes[:,acc_nneuron[i]:acc_nneuron[i+1],:] for i in range(len(acc_nneuron)-1)],\n",
    "    npadding=50,\n",
    "    train_ratio=0.7,\n",
    "    val_ratio=0.1,\n",
    "    batch_size=64,\n",
    "    verbose=True\n",
    ")"
   ]
  },
  {
   "cell_type": "markdown",
   "metadata": {},
   "source": [
    "# Ablation experiments"
   ]
  },
  {
   "cell_type": "code",
   "execution_count": 93,
   "metadata": {},
   "outputs": [],
   "source": [
    "# Settings for all ablation experiments\n",
    "verbose = False\n",
    "# datasets = [synthetic_GLM_dataloader, synthetic_EIF_dataloader]\n",
    "datasets = [synthetic_GLM_dataloader, synthetic_EIF_dataloader, real_dataloader_fast]\n",
    "nrep = 5\n",
    "ckp_path = '/home/qix/user_data/VAETransformer_checkpoint_ablation'\n",
    "\n",
    "params_set = {}\n",
    "params_set[0] = {\n",
    "    # B-spline basis\n",
    "    'num_B_spline_basis': 10,\n",
    "    # Transformer VAE's settings\n",
    "    'downsample_factor': 10,\n",
    "    'transformer_num_layers': 2,\n",
    "    'transformer_d_model': 128,\n",
    "    'transformer_dim_feedforward': 512,\n",
    "    'transformer_vae_output_dim': 8,\n",
    "    'transformer_dropout': 0.0,\n",
    "    'transformer_nhead': 1,\n",
    "    'stimulus_nfactor': 2,\n",
    "    'stimulus_decoder_inter_dim_factor': 2,\n",
    "    'beta': 1.0,\n",
    "    'use_area_specific_decoder': True,\n",
    "    'use_area_specific_encoder': True,\n",
    "    'use_cls': False,\n",
    "    # Coupling's settings\n",
    "    'coupling_basis_peaks_max': 7,\n",
    "    'coupling_basis_num': 3,\n",
    "    'coupling_nsubspace': 1,\n",
    "    'use_self_coupling': True,\n",
    "    # Coupling strength latent's settings\n",
    "    'K_sigma2': 1.0,\n",
    "    'K_tau': 100,\n",
    "    'coupling_strength_nlatent': 1,\n",
    "    # Self-history's settings\n",
    "    'self_history_basis_peaks_max': 2,\n",
    "    'self_history_basis_num': 3,\n",
    "    'self_history_basis_nonlinear': 0.7,\n",
    "    # Penalty settings\n",
    "    'penalty_smoothing_spline': 1e3,\n",
    "    'penalty_coupling_subgroup': 1e-5,\n",
    "    'penalty_diff_loading': None,\n",
    "    'penalty_loading_similarity': None,\n",
    "    # Training settings\n",
    "    'batch_size': 64,\n",
    "    'sample_latent': False,\n",
    "    'lr': 1e-3,\n",
    "    'epoch_warm_up': 0,\n",
    "    'epoch_patience': 3,\n",
    "    'epoch_max': 200,\n",
    "    'tol': 1e-5,\n",
    "    'weight_decay': 0,\n",
    "    'lr_transformer': 1e-4,\n",
    "    'lr_sti': 1e-2,\n",
    "    'lr_cp': 1e-2,\n",
    "    'lr_self_history': 1e-2,\n",
    "}\n",
    "\n",
    "params_set[1] = {\n",
    "    # B-spline basis\n",
    "    'num_B_spline_basis': 20,\n",
    "    # Transformer VAE's settings\n",
    "    'downsample_factor': 10,\n",
    "    'transformer_num_layers': 2,\n",
    "    'transformer_d_model': 128,\n",
    "    'transformer_dim_feedforward': 512,\n",
    "    'transformer_vae_output_dim': 16,\n",
    "    'transformer_dropout': 0.0,\n",
    "    'transformer_nhead': 1,\n",
    "    'stimulus_nfactor': 1,\n",
    "    'stimulus_decoder_inter_dim_factor': 2,\n",
    "    'beta': 1.0,\n",
    "    'use_area_specific_decoder': True,\n",
    "    'use_area_specific_encoder': True,\n",
    "    'use_cls': False,\n",
    "    # Coupling's settings\n",
    "    'coupling_basis_peaks_max': 5,\n",
    "    'coupling_basis_num': 3,\n",
    "    'coupling_nsubspace': 1,\n",
    "    'use_self_coupling': True,\n",
    "    # Coupling strength latent's settings\n",
    "    'K_sigma2': 1.0,\n",
    "    'K_tau': 100,\n",
    "    'coupling_strength_nlatent': 1,\n",
    "    # Self-history's settings\n",
    "    'self_history_basis_peaks_max': 1.5,\n",
    "    'self_history_basis_num': 3,\n",
    "    'self_history_basis_nonlinear': 1,\n",
    "    # Penalty settings\n",
    "    'penalty_smoothing_spline': 1e3,\n",
    "    'penalty_coupling_subgroup': 1e-5,\n",
    "    'penalty_diff_loading': None,\n",
    "    'penalty_loading_similarity': None,\n",
    "    # Training settings\n",
    "    'batch_size': 64,\n",
    "    'sample_latent': False,\n",
    "    'lr': 1e-3,\n",
    "    'epoch_warm_up': 0,\n",
    "    'epoch_patience': 3,\n",
    "    'epoch_max': 200,\n",
    "    'tol': 1e-5,\n",
    "    'weight_decay': 0,\n",
    "    'lr_transformer': 1e-4,\n",
    "    'lr_sti': 1e-2,\n",
    "    'lr_cp': 1e-2,\n",
    "    'lr_self_history': 1e-2,\n",
    "}\n",
    "\n",
    "params_set[2] = {\n",
    "    # B-spline basis\n",
    "    'num_B_spline_basis': 10,\n",
    "    # Transformer VAE's settings\n",
    "    'downsample_factor': 10,\n",
    "    'transformer_num_layers': 2,\n",
    "    'transformer_d_model': 128,\n",
    "    'transformer_dim_feedforward': 512,\n",
    "    'transformer_vae_output_dim': 12,\n",
    "    'transformer_dropout': 0.0,\n",
    "    'transformer_nhead': 1,\n",
    "    'stimulus_nfactor': 2,\n",
    "    'stimulus_decoder_inter_dim_factor': 2,\n",
    "    'beta': 1.0,\n",
    "    'use_area_specific_decoder': True,\n",
    "    'use_area_specific_encoder': True,\n",
    "    'use_cls': False,\n",
    "    # Coupling's settings\n",
    "    'coupling_basis_peaks_max': 7,\n",
    "    'coupling_basis_num': 3,\n",
    "    'coupling_nsubspace': 1,\n",
    "    'use_self_coupling': True,\n",
    "    # Coupling strength latent's settings\n",
    "    'K_sigma2': 1.0,\n",
    "    'K_tau': 100,\n",
    "    'coupling_strength_nlatent': 1,\n",
    "    # Self-history's settings\n",
    "    'self_history_basis_peaks_max': 1.5,\n",
    "    'self_history_basis_num': 3,\n",
    "    'self_history_basis_nonlinear': 1,\n",
    "    # Penalty settings\n",
    "    'penalty_smoothing_spline': 1e3,\n",
    "    'penalty_coupling_subgroup': 1e-5,\n",
    "    'penalty_diff_loading': None,\n",
    "    'penalty_loading_similarity': None,\n",
    "    # Training settings\n",
    "    'batch_size': 64,\n",
    "    'sample_latent': False,\n",
    "    'lr': 1e-3,\n",
    "    'epoch_warm_up': 0,\n",
    "    'epoch_patience': 3,\n",
    "    'epoch_max': 50,\n",
    "    'tol': 1e-5,\n",
    "    'weight_decay': 0,\n",
    "    'lr_transformer': 1e-4,\n",
    "    'lr_sti': 1e-2,\n",
    "    'lr_cp': 1e-2,\n",
    "    'lr_self_history': 1e-2,\n",
    "}"
   ]
  },
  {
   "cell_type": "code",
   "execution_count": 94,
   "metadata": {},
   "outputs": [
    {
     "name": "stderr",
     "output_type": "stream",
     "text": [
      "/home/qix/anaconda3/envs/allen/lib/python3.9/site-packages/torch/nn/modules/transformer.py:379: UserWarning: enable_nested_tensor is True, but self.use_nested_tensor is False because encoder_layer.self_attn.num_heads is odd\n",
      "  warnings.warn(\n"
     ]
    },
    {
     "name": "stdout",
     "output_type": "stream",
     "text": [
      "Model initialized. Training on cuda\n"
     ]
    },
    {
     "name": "stderr",
     "output_type": "stream",
     "text": [
      " 24%|██▎       | 47/200 [00:03<00:12, 12.00it/s]\n",
      "/home/qix/FC-GPFA/model_trainer.py:316: FutureWarning: You are using `torch.load` with `weights_only=False` (the current default value), which uses the default pickle module implicitly. It is possible to construct malicious pickle data which will execute arbitrary code during unpickling (See https://github.com/pytorch/pytorch/blob/main/SECURITY.md#untrusted-models for more details). In a future release, the default value for `weights_only` will be flipped to `True`. This limits the functions that could be executed during unpickling. Arbitrary objects will no longer be allowed to be loaded via this mode unless they are explicitly allowlisted by the user via `torch.serialization.add_safe_globals`. We recommend you start setting `weights_only=True` for any use case where you don't have full control of the loaded file. Please open an issue on GitHub for any issues related to this experimental feature.\n",
      "  self.model.load_state_dict(torch.load(self.temp_best_model_path))\n",
      " 50%|█████     | 101/200 [00:10<00:10,  9.46it/s]\n",
      " 10%|█         | 20/200 [00:02<00:21,  8.40it/s]\n",
      " 27%|██▋       | 54/200 [00:06<00:17,  8.35it/s]\n"
     ]
    },
    {
     "name": "stdout",
     "output_type": "stream",
     "text": [
      "Model initialized. Training on cuda\n"
     ]
    },
    {
     "name": "stderr",
     "output_type": "stream",
     "text": [
      " 22%|██▎       | 45/200 [00:03<00:12, 12.88it/s]\n",
      " 60%|██████    | 120/200 [00:13<00:08,  8.94it/s]\n",
      " 10%|█         | 20/200 [00:02<00:22,  7.91it/s]\n",
      " 27%|██▋       | 54/200 [00:06<00:16,  8.77it/s]\n"
     ]
    },
    {
     "name": "stdout",
     "output_type": "stream",
     "text": [
      "Model initialized. Training on cuda\n"
     ]
    },
    {
     "name": "stderr",
     "output_type": "stream",
     "text": [
      " 24%|██▍       | 48/200 [00:03<00:11, 13.66it/s]\n",
      " 38%|███▊      | 77/200 [00:08<00:13,  9.22it/s]\n",
      " 11%|█         | 22/200 [00:03<00:25,  6.93it/s]\n",
      " 26%|██▌       | 52/200 [00:06<00:18,  8.10it/s]\n"
     ]
    },
    {
     "name": "stdout",
     "output_type": "stream",
     "text": [
      "Model initialized. Training on cuda\n"
     ]
    },
    {
     "name": "stderr",
     "output_type": "stream",
     "text": [
      " 20%|██        | 40/200 [00:03<00:13, 11.52it/s]\n",
      " 30%|███       | 60/200 [00:06<00:15,  9.03it/s]\n",
      " 10%|▉         | 19/200 [00:02<00:22,  8.19it/s]\n",
      " 27%|██▋       | 54/200 [00:07<00:20,  7.30it/s]\n"
     ]
    },
    {
     "name": "stdout",
     "output_type": "stream",
     "text": [
      "Model initialized. Training on cuda\n"
     ]
    },
    {
     "name": "stderr",
     "output_type": "stream",
     "text": [
      " 24%|██▍       | 49/200 [00:03<00:10, 13.83it/s]\n",
      " 26%|██▋       | 53/200 [00:05<00:15,  9.76it/s]\n",
      " 11%|█         | 22/200 [00:02<00:18,  9.61it/s]\n",
      " 27%|██▋       | 54/200 [00:06<00:16,  8.96it/s]\n"
     ]
    },
    {
     "name": "stdout",
     "output_type": "stream",
     "text": [
      "Model initialized. Training on cuda\n"
     ]
    },
    {
     "name": "stderr",
     "output_type": "stream",
     "text": [
      " 34%|███▎      | 67/200 [00:05<00:10, 13.27it/s]\n",
      " 16%|█▌        | 31/200 [00:03<00:17,  9.82it/s]\n",
      " 12%|█▏        | 23/200 [00:02<00:17,  9.94it/s]\n",
      " 28%|██▊       | 56/200 [00:06<00:17,  8.18it/s]\n"
     ]
    },
    {
     "name": "stdout",
     "output_type": "stream",
     "text": [
      "Model initialized. Training on cuda\n"
     ]
    },
    {
     "name": "stderr",
     "output_type": "stream",
     "text": [
      " 30%|███       | 61/200 [00:04<00:11, 12.60it/s]\n",
      " 24%|██▎       | 47/200 [00:04<00:15,  9.96it/s]\n",
      "  9%|▉         | 18/200 [00:02<00:22,  8.16it/s]\n",
      " 28%|██▊       | 56/200 [00:06<00:16,  8.95it/s]\n"
     ]
    },
    {
     "name": "stdout",
     "output_type": "stream",
     "text": [
      "Model initialized. Training on cuda\n"
     ]
    },
    {
     "name": "stderr",
     "output_type": "stream",
     "text": [
      " 34%|███▍      | 69/200 [00:05<00:09, 13.47it/s]\n",
      " 29%|██▉       | 58/200 [00:06<00:16,  8.58it/s]\n",
      " 10%|▉         | 19/200 [00:02<00:24,  7.46it/s]\n",
      " 28%|██▊       | 55/200 [00:06<00:16,  8.65it/s]\n"
     ]
    },
    {
     "name": "stdout",
     "output_type": "stream",
     "text": [
      "Model initialized. Training on cuda\n"
     ]
    },
    {
     "name": "stderr",
     "output_type": "stream",
     "text": [
      " 33%|███▎      | 66/200 [00:04<00:09, 13.84it/s]\n",
      " 24%|██▍       | 49/200 [00:04<00:15,  9.96it/s]\n",
      "  8%|▊         | 16/200 [00:01<00:20,  8.86it/s]\n",
      " 28%|██▊       | 56/200 [00:07<00:19,  7.50it/s]\n"
     ]
    },
    {
     "name": "stdout",
     "output_type": "stream",
     "text": [
      "Model initialized. Training on cuda\n"
     ]
    },
    {
     "name": "stderr",
     "output_type": "stream",
     "text": [
      " 36%|███▌      | 71/200 [00:05<00:09, 13.79it/s]\n",
      " 22%|██▏       | 44/200 [00:04<00:17,  9.08it/s]\n",
      " 10%|█         | 21/200 [00:02<00:20,  8.89it/s]\n",
      " 28%|██▊       | 56/200 [00:06<00:16,  8.86it/s]\n"
     ]
    },
    {
     "name": "stdout",
     "output_type": "stream",
     "text": [
      "Model initialized. Training on cuda\n"
     ]
    },
    {
     "name": "stderr",
     "output_type": "stream",
     "text": [
      " 66%|██████▌   | 33/50 [00:19<00:10,  1.67it/s]\n",
      " 72%|███████▏  | 36/50 [00:30<00:11,  1.19it/s]\n",
      " 34%|███▍      | 17/50 [00:22<00:44,  1.34s/it]\n",
      " 32%|███▏      | 16/50 [00:22<00:47,  1.39s/it]\n"
     ]
    },
    {
     "name": "stdout",
     "output_type": "stream",
     "text": [
      "Model initialized. Training on cuda\n"
     ]
    },
    {
     "name": "stderr",
     "output_type": "stream",
     "text": [
      " 66%|██████▌   | 33/50 [00:20<00:10,  1.60it/s]\n",
      "100%|██████████| 50/50 [00:40<00:00,  1.22it/s]\n",
      " 20%|██        | 10/50 [00:14<00:57,  1.43s/it]\n",
      " 26%|██▌       | 13/50 [00:18<00:51,  1.40s/it]\n"
     ]
    },
    {
     "name": "stdout",
     "output_type": "stream",
     "text": [
      "Model initialized. Training on cuda\n"
     ]
    },
    {
     "name": "stderr",
     "output_type": "stream",
     "text": [
      " 66%|██████▌   | 33/50 [00:21<00:11,  1.54it/s]\n",
      "100%|██████████| 50/50 [00:39<00:00,  1.26it/s]\n",
      " 20%|██        | 10/50 [00:13<00:55,  1.39s/it]\n",
      " 32%|███▏      | 16/50 [00:21<00:45,  1.34s/it]\n"
     ]
    },
    {
     "name": "stdout",
     "output_type": "stream",
     "text": [
      "Model initialized. Training on cuda\n"
     ]
    },
    {
     "name": "stderr",
     "output_type": "stream",
     "text": [
      " 66%|██████▌   | 33/50 [00:20<00:10,  1.62it/s]\n",
      " 80%|████████  | 40/50 [00:33<00:08,  1.19it/s]\n",
      " 18%|█▊        | 9/50 [00:13<00:59,  1.46s/it]\n",
      " 32%|███▏      | 16/50 [00:21<00:45,  1.35s/it]\n"
     ]
    },
    {
     "name": "stdout",
     "output_type": "stream",
     "text": [
      "Model initialized. Training on cuda\n"
     ]
    },
    {
     "name": "stderr",
     "output_type": "stream",
     "text": [
      " 66%|██████▌   | 33/50 [00:19<00:10,  1.69it/s]\n",
      "100%|██████████| 50/50 [00:41<00:00,  1.21it/s]\n",
      " 36%|███▌      | 18/50 [00:23<00:42,  1.32s/it]\n",
      " 26%|██▌       | 13/50 [00:18<00:51,  1.40s/it]\n"
     ]
    }
   ],
   "source": [
    "# Full model\n",
    "results_ablation = np.zeros((len(datasets), nrep))\n",
    "\n",
    "for idata, data_to_use in enumerate(datasets):\n",
    "    for irep in range(nrep):\n",
    "\n",
    "        trainer = Trainer(data_to_use, ckp_path, params_set[idata])\n",
    "        \n",
    "        # First step: train the model with a trial-invariant stimulus effect\n",
    "        trainer.train(\n",
    "            include_stimulus=True,\n",
    "            include_coupling=False,\n",
    "            include_self_history=False,\n",
    "            fix_stimulus=True,\n",
    "            fix_latents=True,\n",
    "            verbose=verbose,\n",
    "        )\n",
    "        # Second step: train the model with a trial-varying stimulus effect\n",
    "        # trainer.make_optimizer(frozen_params=['sti_readout'])\n",
    "        trainer.make_optimizer(frozen_params=['sti_inhomo', ]) # We are fixing the trial-invariant stimulus effect\n",
    "        trainer.train(\n",
    "            include_stimulus=True,\n",
    "            include_coupling=False,\n",
    "            include_self_history=False,\n",
    "            fix_stimulus=False,\n",
    "            fix_latents=True,\n",
    "            verbose=verbose,\n",
    "        )\n",
    "\n",
    "        trainer.make_optimizer(frozen_params=['transformer_encoder', 'to_latent', 'token_converter'])\n",
    "        # trainer.make_optimizer(frozen_params=[])\n",
    "        trainer.train(\n",
    "            include_stimulus=True,\n",
    "            include_coupling=True,\n",
    "            include_self_history=False,\n",
    "            fix_stimulus=False,\n",
    "            fix_latents=True,\n",
    "            verbose=verbose,\n",
    "        )\n",
    "\n",
    "        # trainer.make_optimizer(frozen_params=['transformer_encoder', 'to_latent', 'token_converter'])\n",
    "        trainer.make_optimizer(frozen_params=['transformer_encoder', 'to_latent', 'token_converter',\n",
    "            'sti_readout', 'sti_decoder', 'sti_inhomo', 'cp_latents_readout', 'cp_time_varying_coef_offset', \n",
    "            'cp_beta_coupling', 'cp_weight_sending', 'cp_weight_receiving'])\n",
    "        # trainer.make_optimizer(frozen_params=[])\n",
    "        test_loss = trainer.train(\n",
    "            include_stimulus=True,\n",
    "            include_coupling=True,\n",
    "            include_self_history=True,\n",
    "            fix_stimulus=False,\n",
    "            fix_latents=True,\n",
    "            verbose=verbose,\n",
    "        )\n",
    "\n",
    "        results_ablation[idata, irep] = test_loss\n",
    "\n",
    "np.save('/home/qix/user_data/EIF_simulation_dataset/results_ablation_full_model.npy', results_ablation)"
   ]
  },
  {
   "cell_type": "code",
   "execution_count": 95,
   "metadata": {},
   "outputs": [
    {
     "name": "stdout",
     "output_type": "stream",
     "text": [
      "Model initialized. Training on cuda\n"
     ]
    },
    {
     "name": "stderr",
     "output_type": "stream",
     "text": [
      " 22%|██▏       | 44/200 [00:03<00:12, 12.47it/s]\n",
      " 10%|█         | 21/200 [00:02<00:18,  9.42it/s]\n",
      " 30%|███       | 60/200 [00:07<00:17,  8.08it/s]\n"
     ]
    },
    {
     "name": "stdout",
     "output_type": "stream",
     "text": [
      "Model initialized. Training on cuda\n"
     ]
    },
    {
     "name": "stderr",
     "output_type": "stream",
     "text": [
      " 25%|██▌       | 50/200 [00:04<00:12, 12.45it/s]\n",
      " 52%|█████▎    | 105/200 [00:13<00:12,  7.80it/s]\n",
      " 28%|██▊       | 56/200 [00:06<00:16,  8.57it/s]\n"
     ]
    },
    {
     "name": "stdout",
     "output_type": "stream",
     "text": [
      "Model initialized. Training on cuda\n"
     ]
    },
    {
     "name": "stderr",
     "output_type": "stream",
     "text": [
      " 24%|██▍       | 49/200 [00:04<00:12, 12.01it/s]\n",
      " 32%|███▏      | 63/200 [00:08<00:17,  7.80it/s]\n",
      " 29%|██▉       | 58/200 [00:06<00:16,  8.49it/s]\n"
     ]
    },
    {
     "name": "stdout",
     "output_type": "stream",
     "text": [
      "Model initialized. Training on cuda\n"
     ]
    },
    {
     "name": "stderr",
     "output_type": "stream",
     "text": [
      " 26%|██▋       | 53/200 [00:03<00:11, 13.31it/s]\n",
      " 28%|██▊       | 57/200 [00:06<00:16,  8.81it/s]\n",
      " 29%|██▉       | 58/200 [00:06<00:15,  8.94it/s]\n"
     ]
    },
    {
     "name": "stdout",
     "output_type": "stream",
     "text": [
      "Model initialized. Training on cuda\n"
     ]
    },
    {
     "name": "stderr",
     "output_type": "stream",
     "text": [
      " 24%|██▍       | 48/200 [00:03<00:12, 12.02it/s]\n",
      " 30%|███       | 60/200 [00:07<00:17,  7.92it/s]\n",
      " 30%|██▉       | 59/200 [00:07<00:17,  8.22it/s]\n"
     ]
    },
    {
     "name": "stdout",
     "output_type": "stream",
     "text": [
      "Model initialized. Training on cuda\n"
     ]
    },
    {
     "name": "stderr",
     "output_type": "stream",
     "text": [
      " 34%|███▍      | 69/200 [00:04<00:09, 14.44it/s]\n",
      " 18%|█▊        | 37/200 [00:04<00:20,  8.04it/s]\n",
      " 28%|██▊       | 57/200 [00:07<00:18,  7.84it/s]\n"
     ]
    },
    {
     "name": "stdout",
     "output_type": "stream",
     "text": [
      "Model initialized. Training on cuda\n"
     ]
    },
    {
     "name": "stderr",
     "output_type": "stream",
     "text": [
      " 34%|███▍      | 68/200 [00:05<00:09, 13.32it/s]\n",
      " 19%|█▉        | 38/200 [00:04<00:20,  7.86it/s]\n",
      " 28%|██▊       | 57/200 [00:06<00:15,  9.19it/s]\n"
     ]
    },
    {
     "name": "stdout",
     "output_type": "stream",
     "text": [
      "Model initialized. Training on cuda\n"
     ]
    },
    {
     "name": "stderr",
     "output_type": "stream",
     "text": [
      " 31%|███       | 62/200 [00:04<00:09, 14.77it/s]\n",
      " 34%|███▎      | 67/200 [00:07<00:15,  8.75it/s]\n",
      " 28%|██▊       | 55/200 [00:06<00:16,  8.75it/s]\n"
     ]
    },
    {
     "name": "stdout",
     "output_type": "stream",
     "text": [
      "Model initialized. Training on cuda\n"
     ]
    },
    {
     "name": "stderr",
     "output_type": "stream",
     "text": [
      " 30%|███       | 61/200 [00:04<00:10, 13.47it/s]\n",
      " 19%|█▉        | 38/200 [00:04<00:19,  8.34it/s]\n",
      " 28%|██▊       | 56/200 [00:07<00:18,  7.74it/s]\n"
     ]
    },
    {
     "name": "stdout",
     "output_type": "stream",
     "text": [
      "Model initialized. Training on cuda\n"
     ]
    },
    {
     "name": "stderr",
     "output_type": "stream",
     "text": [
      " 34%|███▎      | 67/200 [00:05<00:11, 11.69it/s]\n",
      " 15%|█▌        | 30/200 [00:02<00:16, 10.46it/s]\n",
      " 28%|██▊       | 55/200 [00:06<00:17,  8.46it/s]\n"
     ]
    },
    {
     "name": "stdout",
     "output_type": "stream",
     "text": [
      "Model initialized. Training on cuda\n"
     ]
    },
    {
     "name": "stderr",
     "output_type": "stream",
     "text": [
      " 64%|██████▍   | 32/50 [00:20<00:11,  1.57it/s]\n",
      " 54%|█████▍    | 27/50 [00:35<00:30,  1.31s/it]\n",
      " 32%|███▏      | 16/50 [00:21<00:46,  1.36s/it]\n"
     ]
    },
    {
     "name": "stdout",
     "output_type": "stream",
     "text": [
      "Model initialized. Training on cuda\n"
     ]
    },
    {
     "name": "stderr",
     "output_type": "stream",
     "text": [
      " 64%|██████▍   | 32/50 [00:21<00:11,  1.51it/s]\n",
      " 46%|████▌     | 23/50 [00:30<00:35,  1.33s/it]\n",
      " 32%|███▏      | 16/50 [00:21<00:45,  1.35s/it]\n"
     ]
    },
    {
     "name": "stdout",
     "output_type": "stream",
     "text": [
      "Model initialized. Training on cuda\n"
     ]
    },
    {
     "name": "stderr",
     "output_type": "stream",
     "text": [
      " 64%|██████▍   | 32/50 [00:19<00:11,  1.62it/s]\n",
      " 28%|██▊       | 14/50 [00:18<00:48,  1.35s/it]\n",
      " 32%|███▏      | 16/50 [00:21<00:46,  1.36s/it]\n"
     ]
    },
    {
     "name": "stdout",
     "output_type": "stream",
     "text": [
      "Model initialized. Training on cuda\n"
     ]
    },
    {
     "name": "stderr",
     "output_type": "stream",
     "text": [
      " 66%|██████▌   | 33/50 [00:20<00:10,  1.61it/s]\n",
      " 56%|█████▌    | 28/50 [00:36<00:28,  1.31s/it]\n",
      " 32%|███▏      | 16/50 [00:21<00:45,  1.33s/it]\n"
     ]
    },
    {
     "name": "stdout",
     "output_type": "stream",
     "text": [
      "Model initialized. Training on cuda\n"
     ]
    },
    {
     "name": "stderr",
     "output_type": "stream",
     "text": [
      " 66%|██████▌   | 33/50 [00:18<00:09,  1.78it/s]\n",
      " 68%|██████▊   | 34/50 [00:45<00:21,  1.35s/it]\n",
      " 26%|██▌       | 13/50 [00:17<00:50,  1.36s/it]\n"
     ]
    }
   ],
   "source": [
    "# Without Transformer encoder model\n",
    "results_ablation = np.zeros((len(datasets), nrep))\n",
    "\n",
    "for idata, data_to_use in enumerate(datasets):\n",
    "    for irep in range(nrep):\n",
    "\n",
    "        trainer = Trainer(data_to_use, ckp_path, params_set[idata])\n",
    "        \n",
    "        # First step: train the model with a trial-invariant stimulus effect\n",
    "        trainer.train(\n",
    "            include_stimulus=True,\n",
    "            include_coupling=False,\n",
    "            include_self_history=False,\n",
    "            fix_stimulus=True,\n",
    "            fix_latents=True,\n",
    "            verbose=verbose,\n",
    "        )\n",
    "\n",
    "        trainer.make_optimizer(frozen_params=['transformer_encoder', 'to_latent', 'token_converter'])\n",
    "        # trainer.make_optimizer(frozen_params=[])\n",
    "        trainer.train(\n",
    "            include_stimulus=True,\n",
    "            include_coupling=True,\n",
    "            include_self_history=False,\n",
    "            fix_stimulus=False,\n",
    "            fix_latents=True,\n",
    "            verbose=verbose,\n",
    "        )\n",
    "\n",
    "        # trainer.make_optimizer(frozen_params=['transformer_encoder', 'to_latent', 'token_converter'])\n",
    "        trainer.make_optimizer(frozen_params=['transformer_encoder', 'to_latent', 'token_converter',\n",
    "            'sti_readout', 'sti_decoder', 'sti_inhomo', 'cp_latents_readout', 'cp_time_varying_coef_offset', \n",
    "            'cp_beta_coupling', 'cp_weight_sending', 'cp_weight_receiving'])\n",
    "        # trainer.make_optimizer(frozen_params=[])\n",
    "        test_loss = trainer.train(\n",
    "            include_stimulus=True,\n",
    "            include_coupling=True,\n",
    "            include_self_history=True,\n",
    "            fix_stimulus=False,\n",
    "            fix_latents=True,\n",
    "            verbose=verbose,\n",
    "        )\n",
    "\n",
    "        results_ablation[idata, irep] = test_loss\n",
    "\n",
    "np.save('/home/qix/user_data/EIF_simulation_dataset/results_ablation_wo_encoder.npy', results_ablation)"
   ]
  },
  {
   "cell_type": "code",
   "execution_count": 96,
   "metadata": {},
   "outputs": [
    {
     "name": "stdout",
     "output_type": "stream",
     "text": [
      "Model initialized. Training on cuda\n"
     ]
    },
    {
     "name": "stderr",
     "output_type": "stream",
     "text": [
      " 26%|██▌       | 51/200 [00:04<00:13, 11.27it/s]\n",
      "  6%|▌         | 12/200 [00:01<00:20,  9.37it/s]\n",
      " 38%|███▊      | 75/200 [00:07<00:12,  9.65it/s]\n"
     ]
    },
    {
     "name": "stdout",
     "output_type": "stream",
     "text": [
      "Model initialized. Training on cuda\n"
     ]
    },
    {
     "name": "stderr",
     "output_type": "stream",
     "text": [
      " 21%|██        | 42/200 [00:03<00:12, 12.74it/s]\n",
      " 38%|███▊      | 76/200 [00:08<00:13,  9.48it/s]\n",
      " 30%|██▉       | 59/200 [00:06<00:14,  9.42it/s]\n"
     ]
    },
    {
     "name": "stdout",
     "output_type": "stream",
     "text": [
      "Model initialized. Training on cuda\n"
     ]
    },
    {
     "name": "stderr",
     "output_type": "stream",
     "text": [
      " 24%|██▎       | 47/200 [00:03<00:11, 13.86it/s]\n",
      " 18%|█▊        | 35/200 [00:04<00:19,  8.26it/s]\n",
      " 36%|███▌      | 72/200 [00:06<00:12, 10.35it/s]\n"
     ]
    },
    {
     "name": "stdout",
     "output_type": "stream",
     "text": [
      "Model initialized. Training on cuda\n"
     ]
    },
    {
     "name": "stderr",
     "output_type": "stream",
     "text": [
      " 27%|██▋       | 54/200 [00:04<00:12, 11.62it/s]\n",
      " 38%|███▊      | 76/200 [00:08<00:13,  8.87it/s]\n",
      " 32%|███▏      | 63/200 [00:06<00:14,  9.32it/s]\n"
     ]
    },
    {
     "name": "stdout",
     "output_type": "stream",
     "text": [
      "Model initialized. Training on cuda\n"
     ]
    },
    {
     "name": "stderr",
     "output_type": "stream",
     "text": [
      " 28%|██▊       | 56/200 [00:04<00:11, 12.73it/s]\n",
      " 43%|████▎     | 86/200 [00:08<00:10, 10.39it/s]\n",
      " 32%|███▏      | 63/200 [00:06<00:13, 10.00it/s]\n"
     ]
    },
    {
     "name": "stdout",
     "output_type": "stream",
     "text": [
      "Model initialized. Training on cuda\n"
     ]
    },
    {
     "name": "stderr",
     "output_type": "stream",
     "text": [
      " 39%|███▉      | 78/200 [00:06<00:09, 12.28it/s]\n",
      " 17%|█▋        | 34/200 [00:03<00:17,  9.48it/s]\n",
      " 29%|██▉       | 58/200 [00:06<00:15,  9.31it/s]\n"
     ]
    },
    {
     "name": "stdout",
     "output_type": "stream",
     "text": [
      "Model initialized. Training on cuda\n"
     ]
    },
    {
     "name": "stderr",
     "output_type": "stream",
     "text": [
      " 36%|███▌      | 71/200 [00:05<00:10, 12.27it/s]\n",
      " 20%|█▉        | 39/200 [00:03<00:16,  9.78it/s]\n",
      " 27%|██▋       | 54/200 [00:05<00:14,  9.88it/s]\n"
     ]
    },
    {
     "name": "stdout",
     "output_type": "stream",
     "text": [
      "Model initialized. Training on cuda\n"
     ]
    },
    {
     "name": "stderr",
     "output_type": "stream",
     "text": [
      " 32%|███▏      | 64/200 [00:05<00:10, 12.73it/s]\n",
      " 26%|██▋       | 53/200 [00:05<00:16,  9.14it/s]\n",
      " 28%|██▊       | 57/200 [00:06<00:15,  9.30it/s]\n"
     ]
    },
    {
     "name": "stdout",
     "output_type": "stream",
     "text": [
      "Model initialized. Training on cuda\n"
     ]
    },
    {
     "name": "stderr",
     "output_type": "stream",
     "text": [
      " 31%|███       | 62/200 [00:04<00:09, 13.98it/s]\n",
      " 24%|██▎       | 47/200 [00:05<00:17,  8.94it/s]\n",
      " 28%|██▊       | 57/200 [00:05<00:14,  9.76it/s]\n"
     ]
    },
    {
     "name": "stdout",
     "output_type": "stream",
     "text": [
      "Model initialized. Training on cuda\n"
     ]
    },
    {
     "name": "stderr",
     "output_type": "stream",
     "text": [
      " 35%|███▌      | 70/200 [00:05<00:10, 12.19it/s]\n",
      " 18%|█▊        | 35/200 [00:03<00:16, 10.12it/s]\n",
      " 28%|██▊       | 56/200 [00:05<00:13, 10.81it/s]\n"
     ]
    },
    {
     "name": "stdout",
     "output_type": "stream",
     "text": [
      "Model initialized. Training on cuda\n"
     ]
    },
    {
     "name": "stderr",
     "output_type": "stream",
     "text": [
      " 64%|██████▍   | 32/50 [00:20<00:11,  1.58it/s]\n",
      " 94%|█████████▍| 47/50 [00:39<00:02,  1.18it/s]\n",
      " 28%|██▊       | 14/50 [00:12<00:33,  1.08it/s]\n"
     ]
    },
    {
     "name": "stdout",
     "output_type": "stream",
     "text": [
      "Model initialized. Training on cuda\n"
     ]
    },
    {
     "name": "stderr",
     "output_type": "stream",
     "text": [
      " 64%|██████▍   | 32/50 [00:20<00:11,  1.57it/s]\n",
      " 76%|███████▌  | 38/50 [00:31<00:09,  1.20it/s]\n",
      " 34%|███▍      | 17/50 [00:14<00:28,  1.17it/s]\n"
     ]
    },
    {
     "name": "stdout",
     "output_type": "stream",
     "text": [
      "Model initialized. Training on cuda\n"
     ]
    },
    {
     "name": "stderr",
     "output_type": "stream",
     "text": [
      " 66%|██████▌   | 33/50 [00:19<00:10,  1.69it/s]\n",
      " 76%|███████▌  | 38/50 [00:32<00:10,  1.15it/s]\n",
      " 34%|███▍      | 17/50 [00:14<00:28,  1.15it/s]\n"
     ]
    },
    {
     "name": "stdout",
     "output_type": "stream",
     "text": [
      "Model initialized. Training on cuda\n"
     ]
    },
    {
     "name": "stderr",
     "output_type": "stream",
     "text": [
      " 66%|██████▌   | 33/50 [00:21<00:11,  1.53it/s]\n",
      " 90%|█████████ | 45/50 [00:38<00:04,  1.16it/s]\n",
      " 32%|███▏      | 16/50 [00:13<00:28,  1.18it/s]\n"
     ]
    },
    {
     "name": "stdout",
     "output_type": "stream",
     "text": [
      "Model initialized. Training on cuda\n"
     ]
    },
    {
     "name": "stderr",
     "output_type": "stream",
     "text": [
      " 64%|██████▍   | 32/50 [00:20<00:11,  1.60it/s]\n",
      " 50%|█████     | 25/50 [00:22<00:22,  1.12it/s]\n",
      " 34%|███▍      | 17/50 [00:14<00:27,  1.19it/s]\n"
     ]
    }
   ],
   "source": [
    "# Without coupling\n",
    "results_ablation = np.zeros((len(datasets), nrep))\n",
    "\n",
    "for idata, data_to_use in enumerate(datasets):\n",
    "    for irep in range(nrep):\n",
    "\n",
    "        trainer = Trainer(data_to_use, ckp_path, params_set[idata])\n",
    "        \n",
    "        # First step: train the model with a trial-invariant stimulus effect\n",
    "        trainer.train(\n",
    "            include_stimulus=True,\n",
    "            include_coupling=False,\n",
    "            include_self_history=False,\n",
    "            fix_stimulus=True,\n",
    "            fix_latents=True,\n",
    "            verbose=verbose,\n",
    "        )\n",
    "        # Second step: train the model with a trial-varying stimulus effect\n",
    "        # trainer.make_optimizer(frozen_params=['sti_readout'])\n",
    "        trainer.make_optimizer(frozen_params=['sti_inhomo', ]) # We are fixing the trial-invariant stimulus effect\n",
    "        trainer.train(\n",
    "            include_stimulus=True,\n",
    "            include_coupling=False,\n",
    "            include_self_history=False,\n",
    "            fix_stimulus=False,\n",
    "            fix_latents=True,\n",
    "            verbose=verbose,\n",
    "        )\n",
    "\n",
    "        # trainer.make_optimizer(frozen_params=['transformer_encoder', 'to_latent', 'token_converter'])\n",
    "        trainer.make_optimizer(frozen_params=['transformer_encoder', 'to_latent', 'token_converter',\n",
    "            'sti_readout', 'sti_decoder', 'sti_inhomo', 'cp_latents_readout', 'cp_time_varying_coef_offset', \n",
    "            'cp_beta_coupling', 'cp_weight_sending', 'cp_weight_receiving'])\n",
    "        # trainer.make_optimizer(frozen_params=[])\n",
    "        test_loss = trainer.train(\n",
    "            include_stimulus=True,\n",
    "            include_coupling=False,\n",
    "            include_self_history=True,\n",
    "            fix_stimulus=False,\n",
    "            fix_latents=True,\n",
    "            verbose=verbose,\n",
    "        )\n",
    "\n",
    "        results_ablation[idata, irep] = test_loss\n",
    "np.save('/home/qix/user_data/EIF_simulation_dataset/results_ablation_wo_coupling.npy', results_ablation)"
   ]
  },
  {
   "cell_type": "code",
   "execution_count": 97,
   "metadata": {},
   "outputs": [
    {
     "name": "stdout",
     "output_type": "stream",
     "text": [
      "Model initialized. Training on cuda\n"
     ]
    },
    {
     "name": "stderr",
     "output_type": "stream",
     "text": [
      " 24%|██▎       | 47/200 [00:03<00:12, 12.43it/s]\n",
      " 26%|██▌       | 51/200 [00:05<00:16,  9.06it/s]\n",
      " 10%|█         | 20/200 [00:02<00:22,  8.16it/s]\n"
     ]
    },
    {
     "name": "stdout",
     "output_type": "stream",
     "text": [
      "Model initialized. Training on cuda\n"
     ]
    },
    {
     "name": "stderr",
     "output_type": "stream",
     "text": [
      " 26%|██▋       | 53/200 [00:03<00:09, 15.61it/s]\n",
      " 20%|█▉        | 39/200 [00:04<00:19,  8.33it/s]\n",
      " 10%|█         | 21/200 [00:02<00:21,  8.16it/s]\n"
     ]
    },
    {
     "name": "stdout",
     "output_type": "stream",
     "text": [
      "Model initialized. Training on cuda\n"
     ]
    },
    {
     "name": "stderr",
     "output_type": "stream",
     "text": [
      " 24%|██▍       | 48/200 [00:03<00:11, 13.07it/s]\n",
      " 34%|███▎      | 67/200 [00:06<00:12, 10.77it/s]\n",
      " 11%|█         | 22/200 [00:02<00:19,  9.34it/s]\n"
     ]
    },
    {
     "name": "stdout",
     "output_type": "stream",
     "text": [
      "Model initialized. Training on cuda\n"
     ]
    },
    {
     "name": "stderr",
     "output_type": "stream",
     "text": [
      " 24%|██▍       | 48/200 [00:03<00:11, 12.71it/s]\n",
      " 26%|██▌       | 51/200 [00:05<00:15,  9.86it/s]\n",
      " 12%|█▏        | 23/200 [00:02<00:21,  8.24it/s]\n"
     ]
    },
    {
     "name": "stdout",
     "output_type": "stream",
     "text": [
      "Model initialized. Training on cuda\n"
     ]
    },
    {
     "name": "stderr",
     "output_type": "stream",
     "text": [
      " 24%|██▍       | 48/200 [00:03<00:12, 12.44it/s]\n",
      " 37%|███▋      | 74/200 [00:08<00:13,  9.08it/s]\n",
      " 10%|█         | 20/200 [00:02<00:21,  8.57it/s]\n"
     ]
    },
    {
     "name": "stdout",
     "output_type": "stream",
     "text": [
      "Model initialized. Training on cuda\n"
     ]
    },
    {
     "name": "stderr",
     "output_type": "stream",
     "text": [
      " 35%|███▌      | 70/200 [00:05<00:10, 12.98it/s]\n",
      " 16%|█▋        | 33/200 [00:03<00:16, 10.05it/s]\n",
      " 14%|█▍        | 28/200 [00:03<00:19,  8.88it/s]\n"
     ]
    },
    {
     "name": "stdout",
     "output_type": "stream",
     "text": [
      "Model initialized. Training on cuda\n"
     ]
    },
    {
     "name": "stderr",
     "output_type": "stream",
     "text": [
      " 40%|███▉      | 79/200 [00:05<00:08, 14.02it/s]\n",
      " 10%|█         | 20/200 [00:02<00:19,  9.16it/s]\n",
      " 10%|▉         | 19/200 [00:02<00:21,  8.49it/s]\n"
     ]
    },
    {
     "name": "stdout",
     "output_type": "stream",
     "text": [
      "Model initialized. Training on cuda\n"
     ]
    },
    {
     "name": "stderr",
     "output_type": "stream",
     "text": [
      " 34%|███▎      | 67/200 [00:05<00:10, 12.89it/s]\n",
      " 34%|███▎      | 67/200 [00:07<00:14,  9.25it/s]\n",
      " 16%|█▌        | 31/200 [00:03<00:17,  9.40it/s]\n"
     ]
    },
    {
     "name": "stdout",
     "output_type": "stream",
     "text": [
      "Model initialized. Training on cuda\n"
     ]
    },
    {
     "name": "stderr",
     "output_type": "stream",
     "text": [
      " 30%|██▉       | 59/200 [00:04<00:11, 12.12it/s]\n",
      " 32%|███▏      | 64/200 [00:06<00:13,  9.82it/s]\n",
      " 12%|█▏        | 24/200 [00:03<00:23,  7.52it/s]\n"
     ]
    },
    {
     "name": "stdout",
     "output_type": "stream",
     "text": [
      "Model initialized. Training on cuda\n"
     ]
    },
    {
     "name": "stderr",
     "output_type": "stream",
     "text": [
      " 36%|███▌      | 71/200 [00:05<00:09, 13.86it/s]\n",
      " 15%|█▌        | 30/200 [00:03<00:17,  9.88it/s]\n",
      " 20%|██        | 41/200 [00:05<00:20,  7.81it/s]\n"
     ]
    },
    {
     "name": "stdout",
     "output_type": "stream",
     "text": [
      "Model initialized. Training on cuda\n"
     ]
    },
    {
     "name": "stderr",
     "output_type": "stream",
     "text": [
      " 64%|██████▍   | 32/50 [00:19<00:11,  1.63it/s]\n",
      "100%|██████████| 50/50 [00:42<00:00,  1.18it/s]\n",
      " 22%|██▏       | 11/50 [00:15<00:54,  1.39s/it]\n"
     ]
    },
    {
     "name": "stdout",
     "output_type": "stream",
     "text": [
      "Model initialized. Training on cuda\n"
     ]
    },
    {
     "name": "stderr",
     "output_type": "stream",
     "text": [
      " 64%|██████▍   | 32/50 [00:19<00:10,  1.64it/s]\n",
      " 90%|█████████ | 45/50 [00:38<00:04,  1.16it/s]\n",
      " 36%|███▌      | 18/50 [00:24<00:43,  1.35s/it]\n"
     ]
    },
    {
     "name": "stdout",
     "output_type": "stream",
     "text": [
      "Model initialized. Training on cuda\n"
     ]
    },
    {
     "name": "stderr",
     "output_type": "stream",
     "text": [
      " 66%|██████▌   | 33/50 [00:21<00:11,  1.50it/s]\n",
      " 98%|█████████▊| 49/50 [00:41<00:00,  1.19it/s]\n",
      " 22%|██▏       | 11/50 [00:15<00:55,  1.41s/it]\n"
     ]
    },
    {
     "name": "stdout",
     "output_type": "stream",
     "text": [
      "Model initialized. Training on cuda\n"
     ]
    },
    {
     "name": "stderr",
     "output_type": "stream",
     "text": [
      " 62%|██████▏   | 31/50 [00:18<00:11,  1.67it/s]\n",
      "100%|██████████| 50/50 [00:45<00:00,  1.09it/s]\n",
      " 26%|██▌       | 13/50 [00:22<01:04,  1.73s/it]\n"
     ]
    },
    {
     "name": "stdout",
     "output_type": "stream",
     "text": [
      "Model initialized. Training on cuda\n"
     ]
    },
    {
     "name": "stderr",
     "output_type": "stream",
     "text": [
      " 64%|██████▍   | 32/50 [00:22<00:12,  1.43it/s]\n",
      "100%|██████████| 50/50 [00:42<00:00,  1.17it/s]\n",
      " 18%|█▊        | 9/50 [00:12<00:58,  1.43s/it]\n"
     ]
    }
   ],
   "source": [
    "# Without neuron's post-spike effects\n",
    "results_ablation = np.zeros((len(datasets), nrep))\n",
    "\n",
    "for idata, data_to_use in enumerate(datasets):\n",
    "    for irep in range(nrep):\n",
    "\n",
    "        trainer = Trainer(data_to_use, ckp_path, params_set[idata])\n",
    "        \n",
    "        # First step: train the model with a trial-invariant stimulus effect\n",
    "        trainer.train(\n",
    "            include_stimulus=True,\n",
    "            include_coupling=False,\n",
    "            include_self_history=False,\n",
    "            fix_stimulus=True,\n",
    "            fix_latents=True,\n",
    "            verbose=verbose,\n",
    "        )\n",
    "        # Second step: train the model with a trial-varying stimulus effect\n",
    "        # trainer.make_optimizer(frozen_params=['sti_readout'])\n",
    "        trainer.make_optimizer(frozen_params=['sti_inhomo', ]) # We are fixing the trial-invariant stimulus effect\n",
    "        test_loss = trainer.train(\n",
    "            include_stimulus=True,\n",
    "            include_coupling=False,\n",
    "            include_self_history=False,\n",
    "            fix_stimulus=False,\n",
    "            fix_latents=True,\n",
    "            verbose=verbose,\n",
    "        )\n",
    "\n",
    "        trainer.make_optimizer(frozen_params=['transformer_encoder', 'to_latent', 'token_converter'])\n",
    "        # trainer.make_optimizer(frozen_params=[])\n",
    "        trainer.train(\n",
    "            include_stimulus=True,\n",
    "            include_coupling=True,\n",
    "            include_self_history=False,\n",
    "            fix_stimulus=False,\n",
    "            fix_latents=True,\n",
    "            verbose=verbose,\n",
    "        )\n",
    "\n",
    "        results_ablation[idata, irep] = test_loss\n",
    "np.save('/home/qix/user_data/EIF_simulation_dataset/results_ablation_wo_post_spike.npy', results_ablation)"
   ]
  },
  {
   "cell_type": "code",
   "execution_count": 100,
   "metadata": {},
   "outputs": [
    {
     "name": "stdout",
     "output_type": "stream",
     "text": [
      "Model initialized. Training on cuda\n"
     ]
    },
    {
     "name": "stderr",
     "output_type": "stream",
     "text": [
      " 24%|██▎       | 47/200 [00:03<00:10, 14.92it/s]\n",
      "  4%|▍         | 9/200 [00:00<00:14, 13.09it/s]\n",
      " 13%|█▎        | 26/200 [00:02<00:17,  9.96it/s]\n",
      " 32%|███▏      | 63/200 [00:06<00:14,  9.37it/s]\n"
     ]
    },
    {
     "name": "stdout",
     "output_type": "stream",
     "text": [
      "Model initialized. Training on cuda\n"
     ]
    },
    {
     "name": "stderr",
     "output_type": "stream",
     "text": [
      " 26%|██▌       | 51/200 [00:03<00:08, 16.59it/s]\n",
      " 23%|██▎       | 46/200 [00:04<00:13, 11.17it/s]\n",
      "  9%|▉         | 18/200 [00:02<00:21,  8.47it/s]\n",
      " 28%|██▊       | 57/200 [00:06<00:15,  8.96it/s]\n"
     ]
    },
    {
     "name": "stdout",
     "output_type": "stream",
     "text": [
      "Model initialized. Training on cuda\n"
     ]
    },
    {
     "name": "stderr",
     "output_type": "stream",
     "text": [
      " 24%|██▎       | 47/200 [00:02<00:09, 15.96it/s]\n",
      "  7%|▋         | 14/200 [00:01<00:17, 10.82it/s]\n",
      " 45%|████▌     | 90/200 [00:09<00:11,  9.52it/s]\n",
      " 29%|██▉       | 58/200 [00:06<00:15,  9.23it/s]\n"
     ]
    },
    {
     "name": "stdout",
     "output_type": "stream",
     "text": [
      "Model initialized. Training on cuda\n"
     ]
    },
    {
     "name": "stderr",
     "output_type": "stream",
     "text": [
      " 26%|██▌       | 52/200 [00:03<00:10, 14.39it/s]\n",
      " 37%|███▋      | 74/200 [00:06<00:10, 11.59it/s]\n",
      "  9%|▉         | 18/200 [00:01<00:16, 11.17it/s]\n",
      " 28%|██▊       | 55/200 [00:05<00:14, 10.14it/s]\n"
     ]
    },
    {
     "name": "stdout",
     "output_type": "stream",
     "text": [
      "Model initialized. Training on cuda\n"
     ]
    },
    {
     "name": "stderr",
     "output_type": "stream",
     "text": [
      " 26%|██▌       | 51/200 [00:03<00:09, 14.90it/s]\n",
      " 11%|█         | 22/200 [00:01<00:15, 11.52it/s]\n",
      " 22%|██▏       | 43/200 [00:04<00:16,  9.41it/s]\n",
      " 28%|██▊       | 57/200 [00:06<00:15,  9.12it/s]\n"
     ]
    },
    {
     "name": "stdout",
     "output_type": "stream",
     "text": [
      "Model initialized. Training on cuda\n"
     ]
    },
    {
     "name": "stderr",
     "output_type": "stream",
     "text": [
      " 34%|███▍      | 68/200 [00:04<00:09, 14.35it/s]\n",
      " 33%|███▎      | 66/200 [00:06<00:12, 10.58it/s]\n",
      " 12%|█▏        | 23/200 [00:02<00:19,  9.14it/s]\n",
      " 28%|██▊       | 56/200 [00:05<00:15,  9.47it/s]\n"
     ]
    },
    {
     "name": "stdout",
     "output_type": "stream",
     "text": [
      "Model initialized. Training on cuda\n"
     ]
    },
    {
     "name": "stderr",
     "output_type": "stream",
     "text": [
      " 38%|███▊      | 76/200 [00:05<00:08, 14.00it/s]\n",
      " 44%|████▎     | 87/200 [00:07<00:09, 11.62it/s]\n",
      "  7%|▋         | 14/200 [00:01<00:22,  8.42it/s]\n",
      " 28%|██▊       | 56/200 [00:06<00:15,  9.13it/s]\n"
     ]
    },
    {
     "name": "stdout",
     "output_type": "stream",
     "text": [
      "Model initialized. Training on cuda\n"
     ]
    },
    {
     "name": "stderr",
     "output_type": "stream",
     "text": [
      " 32%|███▏      | 64/200 [00:04<00:09, 13.86it/s]\n",
      " 42%|████▎     | 85/200 [00:08<00:11, 10.26it/s]\n",
      "  9%|▉         | 18/200 [00:01<00:16, 10.92it/s]\n",
      " 28%|██▊       | 55/200 [00:05<00:15,  9.48it/s]\n"
     ]
    },
    {
     "name": "stdout",
     "output_type": "stream",
     "text": [
      "Model initialized. Training on cuda\n"
     ]
    },
    {
     "name": "stderr",
     "output_type": "stream",
     "text": [
      " 35%|███▌      | 70/200 [00:04<00:09, 14.32it/s]\n",
      " 38%|███▊      | 77/200 [00:06<00:10, 11.54it/s]\n",
      " 32%|███▏      | 64/200 [00:06<00:14,  9.16it/s]\n",
      " 28%|██▊       | 55/200 [00:06<00:16,  9.03it/s]\n"
     ]
    },
    {
     "name": "stdout",
     "output_type": "stream",
     "text": [
      "Model initialized. Training on cuda\n"
     ]
    },
    {
     "name": "stderr",
     "output_type": "stream",
     "text": [
      " 34%|███▍      | 68/200 [00:04<00:08, 16.25it/s]\n",
      " 36%|███▋      | 73/200 [00:06<00:10, 11.93it/s]\n",
      "  9%|▉         | 18/200 [00:01<00:17, 10.52it/s]\n",
      " 28%|██▊       | 56/200 [00:05<00:13, 10.64it/s]\n"
     ]
    },
    {
     "name": "stdout",
     "output_type": "stream",
     "text": [
      "Model initialized. Training on cuda\n"
     ]
    },
    {
     "name": "stderr",
     "output_type": "stream",
     "text": [
      " 64%|██████▍   | 32/50 [00:19<00:11,  1.63it/s]\n",
      "100%|██████████| 50/50 [00:38<00:00,  1.29it/s]\n",
      " 24%|██▍       | 12/50 [00:15<00:50,  1.32s/it]\n",
      " 32%|███▏      | 16/50 [00:20<00:44,  1.30s/it]\n"
     ]
    },
    {
     "name": "stdout",
     "output_type": "stream",
     "text": [
      "Model initialized. Training on cuda\n"
     ]
    },
    {
     "name": "stderr",
     "output_type": "stream",
     "text": [
      " 64%|██████▍   | 32/50 [00:19<00:10,  1.68it/s]\n",
      "100%|██████████| 50/50 [00:40<00:00,  1.22it/s]\n",
      " 28%|██▊       | 14/50 [00:17<00:46,  1.28s/it]\n",
      " 26%|██▌       | 13/50 [00:17<00:49,  1.33s/it]\n"
     ]
    },
    {
     "name": "stdout",
     "output_type": "stream",
     "text": [
      "Model initialized. Training on cuda\n"
     ]
    },
    {
     "name": "stderr",
     "output_type": "stream",
     "text": [
      " 66%|██████▌   | 33/50 [00:19<00:09,  1.70it/s]\n",
      "100%|██████████| 50/50 [00:38<00:00,  1.30it/s]\n",
      " 32%|███▏      | 16/50 [00:20<00:44,  1.31s/it]\n",
      " 26%|██▌       | 13/50 [00:16<00:48,  1.31s/it]\n"
     ]
    },
    {
     "name": "stdout",
     "output_type": "stream",
     "text": [
      "Model initialized. Training on cuda\n"
     ]
    },
    {
     "name": "stderr",
     "output_type": "stream",
     "text": [
      " 66%|██████▌   | 33/50 [00:20<00:10,  1.61it/s]\n",
      "100%|██████████| 50/50 [00:38<00:00,  1.29it/s]\n",
      " 20%|██        | 10/50 [00:13<00:53,  1.33s/it]\n",
      " 32%|███▏      | 16/50 [00:21<00:45,  1.34s/it]\n"
     ]
    },
    {
     "name": "stdout",
     "output_type": "stream",
     "text": [
      "Model initialized. Training on cuda\n"
     ]
    },
    {
     "name": "stderr",
     "output_type": "stream",
     "text": [
      " 66%|██████▌   | 33/50 [00:19<00:10,  1.67it/s]\n",
      "100%|██████████| 50/50 [00:40<00:00,  1.25it/s]\n",
      " 18%|█▊        | 9/50 [00:12<00:56,  1.37s/it]\n",
      " 26%|██▌       | 13/50 [00:17<00:48,  1.32s/it]\n"
     ]
    }
   ],
   "source": [
    "# Transformer -> RNN\n",
    "results_ablation = np.zeros((len(datasets), nrep))\n",
    "\n",
    "for idata, data_to_use in enumerate(datasets):\n",
    "    for irep in range(nrep):\n",
    "\n",
    "        trainer = Trainer(data_to_use, ckp_path, params_set[idata])\n",
    "        \n",
    "        # First step: train the model with a trial-invariant stimulus effect\n",
    "        trainer.train(\n",
    "            include_stimulus=True,\n",
    "            include_coupling=False,\n",
    "            include_self_history=False,\n",
    "            fix_stimulus=True,\n",
    "            fix_latents=True,\n",
    "            verbose=verbose,\n",
    "        )\n",
    "        # Second step: train the model with a trial-varying stimulus effect\n",
    "        # trainer.make_optimizer(frozen_params=['sti_readout'])\n",
    "        trainer.make_optimizer(frozen_params=['sti_inhomo', ]) # We are fixing the trial-invariant stimulus effect\n",
    "        trainer.train(\n",
    "            include_stimulus=True,\n",
    "            include_coupling=False,\n",
    "            include_self_history=False,\n",
    "            fix_stimulus=False,\n",
    "            fix_latents=True,\n",
    "            verbose=verbose,\n",
    "        )\n",
    "\n",
    "        trainer.make_optimizer(frozen_params=['transformer_encoder', 'to_latent', 'token_converter'])\n",
    "        # trainer.make_optimizer(frozen_params=[])\n",
    "        trainer.train(\n",
    "            include_stimulus=True,\n",
    "            include_coupling=True,\n",
    "            include_self_history=False,\n",
    "            fix_stimulus=False,\n",
    "            fix_latents=True,\n",
    "            verbose=verbose,\n",
    "        )\n",
    "\n",
    "        # trainer.make_optimizer(frozen_params=['transformer_encoder', 'to_latent', 'token_converter'])\n",
    "        trainer.make_optimizer(frozen_params=['transformer_encoder', 'to_latent', 'token_converter',\n",
    "            'sti_readout', 'sti_decoder', 'sti_inhomo', 'cp_latents_readout', 'cp_time_varying_coef_offset', \n",
    "            'cp_beta_coupling', 'cp_weight_sending', 'cp_weight_receiving'])\n",
    "        # trainer.make_optimizer(frozen_params=[])\n",
    "        test_loss = trainer.train(\n",
    "            include_stimulus=True,\n",
    "            include_coupling=True,\n",
    "            include_self_history=True,\n",
    "            fix_stimulus=False,\n",
    "            fix_latents=True,\n",
    "            verbose=verbose,\n",
    "        )\n",
    "\n",
    "        results_ablation[idata, irep] = test_loss\n",
    "np.save('/home/qix/user_data/EIF_simulation_dataset/results_ablation_rnn.npy', results_ablation)"
   ]
  },
  {
   "cell_type": "code",
   "execution_count": null,
   "metadata": {},
   "outputs": [
    {
     "name": "stderr",
     "output_type": "stream",
     "text": [
      "/home/qix/anaconda3/envs/allen/lib/python3.9/site-packages/torch/nn/modules/transformer.py:379: UserWarning: enable_nested_tensor is True, but self.use_nested_tensor is False because encoder_layer.self_attn.num_heads is odd\n",
      "  warnings.warn(\n"
     ]
    },
    {
     "name": "stdout",
     "output_type": "stream",
     "text": [
      "Model initialized. Training on cuda\n"
     ]
    },
    {
     "name": "stderr",
     "output_type": "stream",
     "text": [
      "  4%|▍         | 8/200 [00:04<01:50,  1.73it/s]\n",
      "/home/qix/FC-GPFA/model_trainer.py:316: FutureWarning: You are using `torch.load` with `weights_only=False` (the current default value), which uses the default pickle module implicitly. It is possible to construct malicious pickle data which will execute arbitrary code during unpickling (See https://github.com/pytorch/pytorch/blob/main/SECURITY.md#untrusted-models for more details). In a future release, the default value for `weights_only` will be flipped to `True`. This limits the functions that could be executed during unpickling. Arbitrary objects will no longer be allowed to be loaded via this mode unless they are explicitly allowlisted by the user via `torch.serialization.add_safe_globals`. We recommend you start setting `weights_only=True` for any use case where you don't have full control of the loaded file. Please open an issue on GitHub for any issues related to this experimental feature.\n",
      "  self.model.load_state_dict(torch.load(self.temp_best_model_path))\n",
      " 24%|██▎       | 47/200 [00:34<01:51,  1.38it/s]\n",
      "  4%|▎         | 7/200 [00:06<03:04,  1.05it/s]\n",
      "  6%|▌         | 12/200 [00:11<03:01,  1.04it/s]\n",
      "/home/qix/anaconda3/envs/allen/lib/python3.9/site-packages/torch/nn/modules/transformer.py:379: UserWarning: enable_nested_tensor is True, but self.use_nested_tensor is False because encoder_layer.self_attn.num_heads is odd\n",
      "  warnings.warn(\n"
     ]
    },
    {
     "name": "stdout",
     "output_type": "stream",
     "text": [
      "Model initialized. Training on cuda\n"
     ]
    },
    {
     "name": "stderr",
     "output_type": "stream",
     "text": [
      "  4%|▍         | 8/200 [00:04<01:40,  1.90it/s]\n",
      " 18%|█▊        | 37/200 [00:27<02:00,  1.35it/s]\n",
      "  6%|▌         | 11/200 [00:10<02:57,  1.07it/s]\n",
      "  6%|▌         | 12/200 [00:12<03:09,  1.01s/it]\n"
     ]
    }
   ],
   "source": [
    "# Low-rank -> full-rank\n",
    "# results_ablation = np.zeros((len(datasets), nrep))\n",
    "\n",
    "# for idata, data_to_use in enumerate(datasets):\n",
    "#     for irep in range(nrep):\n",
    "\n",
    "#         trainer = Trainer(data_to_use, ckp_path, params_set[idata])\n",
    "        \n",
    "#         # First step: train the model with a trial-invariant stimulus effect\n",
    "#         trainer.train(\n",
    "#             include_stimulus=True,\n",
    "#             include_coupling=False,\n",
    "#             include_self_history=False,\n",
    "#             fix_stimulus=True,\n",
    "#             fix_latents=True,\n",
    "#             verbose=verbose,\n",
    "#         )\n",
    "#         # Second step: train the model with a trial-varying stimulus effect\n",
    "#         # trainer.make_optimizer(frozen_params=['sti_readout'])\n",
    "#         trainer.make_optimizer(frozen_params=['sti_inhomo', ]) # We are fixing the trial-invariant stimulus effect\n",
    "#         trainer.train(\n",
    "#             include_stimulus=True,\n",
    "#             include_coupling=False,\n",
    "#             include_self_history=False,\n",
    "#             fix_stimulus=False,\n",
    "#             fix_latents=True,\n",
    "#             verbose=verbose,\n",
    "#         )\n",
    "\n",
    "#         trainer.make_optimizer(frozen_params=['transformer_encoder', 'to_latent', 'token_converter'])\n",
    "#         # trainer.make_optimizer(frozen_params=[])\n",
    "#         trainer.train(\n",
    "#             include_stimulus=True,\n",
    "#             include_coupling=True,\n",
    "#             include_self_history=False,\n",
    "#             fix_stimulus=False,\n",
    "#             fix_latents=True,\n",
    "#             verbose=verbose,\n",
    "#         )\n",
    "\n",
    "#         # trainer.make_optimizer(frozen_params=['transformer_encoder', 'to_latent', 'token_converter'])\n",
    "#         trainer.make_optimizer(frozen_params=['transformer_encoder', 'to_latent', 'token_converter',\n",
    "#             'sti_readout', 'sti_decoder', 'sti_inhomo', 'cp_latents_readout', 'cp_time_varying_coef_offset', \n",
    "#             'cp_beta_coupling', 'cp_weight_sending', 'cp_weight_receiving'])\n",
    "#         # trainer.make_optimizer(frozen_params=[])\n",
    "#         test_loss = trainer.train(\n",
    "#             include_stimulus=True,\n",
    "#             include_coupling=True,\n",
    "#             include_self_history=True,\n",
    "#             fix_stimulus=False,\n",
    "#             fix_latents=True,\n",
    "#             verbose=verbose,\n",
    "#         )\n",
    "\n",
    "#         results_ablation[idata, irep] = test_loss\n",
    "# np.save('/home/qix/user_data/EIF_simulation_dataset/results_ablation_full_rank.npy', results_ablation)"
   ]
  },
  {
   "cell_type": "code",
   "execution_count": null,
   "metadata": {},
   "outputs": [],
   "source": []
  },
  {
   "cell_type": "code",
   "execution_count": null,
   "metadata": {},
   "outputs": [],
   "source": []
  },
  {
   "cell_type": "code",
   "execution_count": 101,
   "metadata": {},
   "outputs": [
    {
     "name": "stdout",
     "output_type": "stream",
     "text": [
      "Dataset\tFull Model\tW/o Encoder\tW/o Coupling\tW/o post spike\tRNN\n",
      "----------------------------------------------------------------------------------------------------\n",
      "Data 1\t0.20055 (0.00017)\t0.20231 (0.00029)\t0.20430 (0.00079)\t0.20728 (0.00027)\t0.20215 (0.00036)\n",
      "Data 2\t0.25223 (0.00008)\t0.25344 (0.00012)\t0.25621 (0.00012)\t0.26715 (0.00046)\t0.25244 (0.00017)\n",
      "Data 3\t0.05674 (0.00005)\t0.05735 (0.00004)\t0.05735 (0.00005)\t0.05776 (0.00001)\t0.05683 (0.00004)\n"
     ]
    }
   ],
   "source": [
    "# Load results from different models\n",
    "results_full = np.load('/home/qix/user_data/EIF_simulation_dataset/results_ablation_full_model.npy')\n",
    "results_wo_encoder = np.load('/home/qix/user_data/EIF_simulation_dataset/results_ablation_wo_encoder.npy') \n",
    "results_wo_coupling = np.load('/home/qix/user_data/EIF_simulation_dataset/results_ablation_wo_coupling.npy')\n",
    "results_wo_post_spike = np.load('/home/qix/user_data/EIF_simulation_dataset/results_ablation_wo_post_spike.npy')\n",
    "results_rnn = np.load('/home/qix/user_data/EIF_simulation_dataset/results_ablation_rnn.npy')\n",
    "\n",
    "# Calculate mean and sem for each model and dataset\n",
    "def mean_sem(data):\n",
    "    return f\"{data.mean():.5f} ({data.std()/np.sqrt(len(data)):.5f})\"\n",
    "\n",
    "# Create table rows\n",
    "table_rows = []\n",
    "for i in range(len(datasets)):\n",
    "    row = [\n",
    "        mean_sem(results_full[i,:]),\n",
    "        mean_sem(results_wo_encoder[i,:]), \n",
    "        mean_sem(results_wo_coupling[i,:]),\n",
    "        mean_sem(results_wo_post_spike[i,:]),\n",
    "        mean_sem(results_rnn[i,:])\n",
    "    ]\n",
    "    table_rows.append(row)\n",
    "\n",
    "# Print table\n",
    "print(\"Dataset\\tFull Model\\tW/o Encoder\\tW/o Coupling\\tW/o post spike\\tRNN\")\n",
    "print(\"-\"*100)\n",
    "for i, row in enumerate(table_rows):\n",
    "    print(f\"Data {i+1}\\t{row[0]}\\t{row[1]}\\t{row[2]}\\t{row[3]}\\t{row[4]}\")\n",
    "\n"
   ]
  },
  {
   "cell_type": "code",
   "execution_count": null,
   "metadata": {},
   "outputs": [],
   "source": []
  }
 ],
 "metadata": {
  "kernelspec": {
   "display_name": "Python 3",
   "language": "python",
   "name": "python3"
  },
  "language_info": {
   "codemirror_mode": {
    "name": "ipython",
    "version": 3
   },
   "file_extension": ".py",
   "mimetype": "text/x-python",
   "name": "python",
   "nbconvert_exporter": "python",
   "pygments_lexer": "ipython3",
   "version": "3.9.21"
  }
 },
 "nbformat": 4,
 "nbformat_minor": 2
}
